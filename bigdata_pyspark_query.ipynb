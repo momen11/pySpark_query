{
  "cells": [
    {
      "cell_type": "code",
      "source": [
        "#assignment2_BigData"
      ],
      "metadata": {
        "id": "ELHiqs5xOSfv"
      },
      "execution_count": null,
      "outputs": []
    },
    {
      "cell_type": "code",
      "execution_count": null,
      "metadata": {
        "id": "Ks75ETrweSiD"
      },
      "outputs": [],
      "source": [
        "!apt-get install openjdk-8-jdk-headless -qq > /dev/null\n",
        "!wget -q https://archive.apache.org/dist/spark/spark-3.0.0/spark-3.0.0-bin-hadoop3.2.tgz\n",
        "!tar xf spark-3.0.0-bin-hadoop3.2.tgz\n",
        "\n",
        "import os\n",
        "os.environ[\"JAVA_HOME\"] = \"/usr/lib/jvm/java-8-openjdk-amd64\"\n",
        "os.environ[\"SPARK_HOME\"] = \"/content/spark-3.0.0-bin-hadoop3.2\""
      ]
    },
    {
      "cell_type": "code",
      "execution_count": null,
      "metadata": {
        "id": "PrRrY_iEeXS-"
      },
      "outputs": [],
      "source": [
        "!pip install -q findspark"
      ]
    },
    {
      "cell_type": "code",
      "execution_count": null,
      "metadata": {
        "id": "0d35FrUneYSX"
      },
      "outputs": [],
      "source": [
        "import findspark\n",
        "findspark.init()\n",
        "from pyspark.sql import SparkSession\n",
        "\n",
        "spark = SparkSession.builder.master(\"local[*]\").getOrCreate()"
      ]
    },
    {
      "cell_type": "code",
      "execution_count": null,
      "metadata": {
        "id": "9B0dqqIwi8VG"
      },
      "outputs": [],
      "source": [
        "from pyspark import SparkConf \n",
        "from pyspark.context import SparkContext \n",
        "\n",
        "sc = SparkContext.getOrCreate(SparkConf().setMaster(\"local[*]\"))"
      ]
    },
    {
      "cell_type": "code",
      "source": [
        "#Retrieve the first k records : k = 10\n",
        "dataset = sc.textFile(\"/content/pagecounts-20160101-000000_parsed.out\",minPartitions=0) \n",
        "sc.parallelize(dataset.take(10)).saveAsTextFile('one1211.tx')"
      ],
      "metadata": {
        "id": "Rg6BNv1diC95"
      },
      "execution_count": null,
      "outputs": []
    },
    {
      "cell_type": "code",
      "execution_count": null,
      "metadata": {
        "id": "H077L9RpjJ9v"
      },
      "outputs": [],
      "source": [
        "#maximum\n",
        "def parse_line(line):\n",
        "  colloms = line.split(\" \")\n",
        "  pagesize=float(colloms[3])\n",
        "  key=0\n",
        "  return (key,pagesize)\n",
        "data =sc.textFile(\"/content/pagecounts-20160101-000000_parsed.out\")\n",
        "pagesize=data.map(parse_line)\n",
        "maxvalue = pagesize.reduceByKey(lambda x , y: max(x,y))\n",
        "maxvalue.saveAsTextFile('max.tx')\n",
        "#maxTemps.collect()"
      ]
    },
    {
      "cell_type": "code",
      "execution_count": null,
      "metadata": {
        "id": "qnPClR9qm3qy"
      },
      "outputs": [],
      "source": [
        "#minimum\n",
        "def parse_line(line):\n",
        "  colloms = line.split(\" \")\n",
        "  pagesize=float(colloms[3])\n",
        "  key=0\n",
        "  return (key,pagesize)\n",
        "data =sc.textFile(\"/content/pagecounts-20160101-000000_parsed.out\")\n",
        "pagesize=data.map(parse_line)\n",
        "minvlues = pagesize.reduceByKey(lambda x , y: min(x,y))\n",
        "minvlues.saveAsTextFile('min1.tx')"
      ]
    },
    {
      "cell_type": "code",
      "execution_count": null,
      "metadata": {
        "id": "3XmA13O3nD_2"
      },
      "outputs": [],
      "source": [
        "#average\n",
        "def parse_data(line):\n",
        " colloms = line.split(\" \")\n",
        " page_size=float(colloms[3])\n",
        " return (page_size)\n",
        "data =sc.textFile(\"/content/pagecounts-20160101-000000_parsed.out\")\n",
        "page_size=data.map(parse_data)\n",
        "listavg =[]\n",
        "result_avg=page_size.mean()\n",
        "listavg.append(result_avg)\n",
        "final_rdd= sc.parallelize(listavg)\n",
        "final_rdd.saveAsTextFile('avg1.tx')"
      ]
    },
    {
      "cell_type": "code",
      "execution_count": null,
      "metadata": {
        "id": "X2rzDH6HjYkf"
      },
      "outputs": [],
      "source": [
        "#page titles that start with the article‎“The”\n",
        "import re\n",
        "def parse_data(line):\n",
        "  colloms = line.split(\" \")\n",
        "  return (colloms[0],colloms[1])\n",
        "#lines.take(5)\n",
        "data =sc.textFile(\"/content/pagecounts-20160101-000000_parsed.out\")\n",
        "pagetitle=data.map(parse_data)\n",
        "result=pagetitle.filter(lambda x : (x[1].startswith('The')) & ('en' != x[0]))\n",
        "#Newr.take(5)\n",
        "pagetitlecount=result.distinct().count()\n",
        "list_count=[]\n",
        "list_count.insert(0,pagetitlecount) #index,value\n",
        "rdd3= sc.parallelize(list_count)\n",
        "rdd3.saveAsTextFile('special141.tx')"
      ]
    },
    {
      "cell_type": "code",
      "source": [
        "#Task 4\n",
        "import re\n",
        "def parseLine(line):\n",
        "  fields = line.split(' ')\n",
        "  title = fields[1]\n",
        "  return (title)\n",
        "def lower_clean_str(x):\n",
        "  punc= re.sub(r'[^a-zA-Z_]','', x)\n",
        "  lowercased_str=punc.lower()\n",
        "  return lowercased_str\n",
        "lines=sc.textFile(\"/content/pagecounts-20160101-000000_parsed.out\")\n",
        "parsedLines=lines.map(parseLine).flatMap(lambda line: line.split(\"_\"))\n",
        "rdd=parsedLines.map(lower_clean_str)\n",
        "result=rdd.map(lambda title : (title, 1)).reduceByKey(lambda x , y: x+y).filter(lambda x: x[1]==1).count()\n",
        "#print(result)\n",
        "list_count=[]\n",
        "list_count.insert(0,result)\n",
        "sc.parallelize(list_count).saveAsTextFile('UTerms1az.tx')"
      ],
      "metadata": {
        "id": "yqb-ZioaGKlA",
        "colab": {
          "base_uri": "https://localhost:8080/"
        },
        "outputId": "4c616b1c-f113-4de5-8aba-6cf38d17b5e9"
      },
      "execution_count": null,
      "outputs": [
        {
          "output_type": "stream",
          "name": "stdout",
          "text": [
            "973059\n"
          ]
        }
      ]
    },
    {
      "cell_type": "code",
      "source": [
        "#Task 5\n",
        "sc=SparkContext.getOrCreate();\n",
        "def parseLine(line):\n",
        "  fields=line.split(' ')\n",
        "  title=fields[1]\n",
        "  return (title)\n",
        "lines=sc.textFile(\"/content/pagecounts-20160101-000000_parsed.out\")\n",
        "parsedlines=lines.map(parseLine).map(lambda title : (title, 1)).reduceByKey(lambda x , y: x+y)\n",
        "final=parsedlines.max(lambda x:x[1])\n",
        "print(final)\n",
        "#list_Max=[]\n",
        "#list_Max.insert(0,final)\n",
        "#sc.parallelize(list_Max).saveAsTextFile('MaxTitle.tx')"
      ],
      "metadata": {
        "id": "07vDqJiFOPTc",
        "colab": {
          "base_uri": "https://localhost:8080/"
        },
        "outputId": "f9f8663b-0fe9-4a45-c888-084784567be6"
      },
      "execution_count": null,
      "outputs": [
        {
          "output_type": "stream",
          "name": "stdout",
          "text": [
            "('water', 118)\n"
          ]
        }
      ]
    },
    {
      "cell_type": "code",
      "source": [
        ""
      ],
      "metadata": {
        "id": "x_GjOvtwGKiM"
      },
      "execution_count": null,
      "outputs": []
    },
    {
      "cell_type": "code",
      "source": [
        ""
      ],
      "metadata": {
        "id": "J4fdhn75GKfk"
      },
      "execution_count": null,
      "outputs": []
    },
    {
      "cell_type": "code",
      "source": [
        ""
      ],
      "metadata": {
        "id": "Ls0R05tIGKc7"
      },
      "execution_count": null,
      "outputs": []
    },
    {
      "cell_type": "code",
      "source": [
        ""
      ],
      "metadata": {
        "id": "YMwzNiJSGKaV"
      },
      "execution_count": null,
      "outputs": []
    },
    {
      "cell_type": "code",
      "source": [
        ""
      ],
      "metadata": {
        "id": "wqMnxLraGKXv"
      },
      "execution_count": null,
      "outputs": []
    },
    {
      "cell_type": "code",
      "source": [
        ""
      ],
      "metadata": {
        "id": "6VePwih1Xh-K"
      },
      "execution_count": null,
      "outputs": []
    },
    {
      "cell_type": "code",
      "source": [
        ""
      ],
      "metadata": {
        "id": "8SUej41BXh6q"
      },
      "execution_count": null,
      "outputs": []
    },
    {
      "cell_type": "code",
      "source": [
        ""
      ],
      "metadata": {
        "id": "sAccVIOeXh32"
      },
      "execution_count": null,
      "outputs": []
    },
    {
      "cell_type": "code",
      "source": [
        ""
      ],
      "metadata": {
        "id": "KjL4c83HXh1l"
      },
      "execution_count": null,
      "outputs": []
    },
    {
      "cell_type": "code",
      "source": [
        ""
      ],
      "metadata": {
        "id": "s5mm7GFXXhyt"
      },
      "execution_count": null,
      "outputs": []
    },
    {
      "cell_type": "code",
      "source": [
        ""
      ],
      "metadata": {
        "id": "gg48RpVGXhwF"
      },
      "execution_count": null,
      "outputs": []
    },
    {
      "cell_type": "code",
      "source": [
        "#unique terms appearing in the page titles.\n",
        "import re\n",
        "def parse_data(line):\n",
        " colloms = line.split(\" \")\n",
        " page_title=colloms[1]\n",
        " page_title2 = re.sub(r'[^a-zA-Z_]','', page_title).upper()\n",
        " return page_title2\n",
        "def parse_pagetitle(line):\n",
        " colloms = line.split(\"_\")\n",
        " return colloms\n",
        "data =sc.textFile(\"/content/pagecounts-20160101-000000_parsed.out\")\n",
        "pageTitle_1=data.map(parse_data)\n",
        "pageTitle_2=pageTitle_1.map(parse_pagetitle)\n",
        "RDD=pageTitle_2.flatMap(lambda x:x).distinct().count()\n",
        "list_count=[]\n",
        "list_count.insert(0,RDD)\n",
        "\n",
        "sc.parallelize(list_count).saveAsTextFile('UTerms1.tx')"
      ],
      "metadata": {
        "id": "Bf0STAKXXhkd"
      },
      "execution_count": null,
      "outputs": []
    },
    {
      "cell_type": "code",
      "source": [
        "#maximum pageTitle\n",
        "import re\n",
        "def parse_data(line):\n",
        " colloms = line.split(\" \")\n",
        " return (colloms[1])\n",
        "data =sc.textFile(\"/content/pagecounts-20160101-000000_parsed.out\")\n",
        "RDD=data.map(parse_data)\n",
        "pagetitle=RDD.map(lambda x: (x,1))\n",
        "\n",
        "tt=pagetitle.groupByKey()\n",
        "maxPageTitle=tt.mapValues(sum).map(lambda x:(x[1],x[0])).sortByKey(False)\n",
        "maxPageTitle.take(10)\n",
        "sc.parallelize(maxPageTitle.take(1)).saveAsTextFile('maxPageTitle11.tx')"
      ],
      "metadata": {
        "id": "qH1N9vRXGKLl"
      },
      "execution_count": null,
      "outputs": []
    }
  ],
  "metadata": {
    "colab": {
      "collapsed_sections": [],
      "name": "bigdata_pyspark_query.ipynb",
      "provenance": []
    },
    "kernelspec": {
      "display_name": "Python 3",
      "name": "python3"
    },
    "language_info": {
      "name": "python"
    }
  },
  "nbformat": 4,
  "nbformat_minor": 0
}